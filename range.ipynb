{
 "cells": [
  {
   "cell_type": "code",
   "execution_count": null,
   "id": "232254a9-9b3a-4499-8aa9-04f1a5e36228",
   "metadata": {},
   "outputs": [],
   "source": [
    "for i in range(10,-1,-1):\n",
    "    print(i,end=\" \")\n"
   ]
  }
 ],
 "metadata": {
  "kernelspec": {
   "display_name": "Python 3 (ipykernel)",
   "language": "python",
   "name": "python3"
  },
  "language_info": {
   "codemirror_mode": {
    "name": "ipython",
    "version": 3
   },
   "file_extension": ".py",
   "mimetype": "text/x-python",
   "name": "python",
   "nbconvert_exporter": "python",
   "pygments_lexer": "ipython3",
   "version": "3.12.7"
  }
 },
 "nbformat": 4,
 "nbformat_minor": 5
}
