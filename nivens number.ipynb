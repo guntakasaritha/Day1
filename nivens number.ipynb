{
 "cells": [
  {
   "cell_type": "code",
   "execution_count": null,
   "id": "d5f80782-0654-4efe-a758-da551412f8a3",
   "metadata": {},
   "outputs": [],
   "source": [
    "num=int(input(\"enter the number:\"))\n",
    "temp= num\n",
    "n=len(str(num))\n",
    "sum=0\n",
    "while temp>0:\n",
    "    digit= temp%10\n",
    "    sum += digit\n",
    "    temp //=10\n",
    "print(\"latest value of sum:\", sum)\n",
    "print(\"latest value of temp:\",temp)\n",
    "if num%sum==0:\n",
    "     print(num,\"is nivens number\")\n",
    "else:\n",
    "     print(num,\"is not not nivens number"
   ]
  }
 ],
 "metadata": {
  "kernelspec": {
   "display_name": "Python 3 (ipykernel)",
   "language": "python",
   "name": "python3"
  },
  "language_info": {
   "codemirror_mode": {
    "name": "ipython",
    "version": 3
   },
   "file_extension": ".py",
   "mimetype": "text/x-python",
   "name": "python",
   "nbconvert_exporter": "python",
   "pygments_lexer": "ipython3",
   "version": "3.12.7"
  }
 },
 "nbformat": 4,
 "nbformat_minor": 5
}
